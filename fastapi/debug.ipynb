{
 "cells": [
  {
   "cell_type": "markdown",
   "metadata": {},
   "source": [
    "### Debug using requests"
   ]
  },
  {
   "cell_type": "code",
   "execution_count": 2,
   "metadata": {},
   "outputs": [],
   "source": [
    "import requests"
   ]
  },
  {
   "cell_type": "code",
   "execution_count": 4,
   "metadata": {},
   "outputs": [
    {
     "name": "stdout",
     "output_type": "stream",
     "text": [
      "<Response [200]>\n"
     ]
    }
   ],
   "source": [
    "response = requests.post(\"http://localhost:8000/getInformation\", json={\"hi\": \"welcome to fastapi\"})\n",
    "print(response)"
   ]
  },
  {
   "cell_type": "code",
   "execution_count": 5,
   "metadata": {},
   "outputs": [
    {
     "data": {
      "text/plain": [
       "{'status': 'SUCCESS', 'data': {'hi': 'welcome to fastapi'}}"
      ]
     },
     "execution_count": 5,
     "metadata": {},
     "output_type": "execute_result"
    }
   ],
   "source": [
    "response.json()"
   ]
  },
  {
   "cell_type": "markdown",
   "metadata": {},
   "source": [
    "### Debug using async httpx"
   ]
  },
  {
   "cell_type": "code",
   "execution_count": 14,
   "metadata": {},
   "outputs": [
    {
     "name": "stdout",
     "output_type": "stream",
     "text": [
      "True\n",
      "True\n",
      "True\n",
      "True\n",
      "True\n",
      "True\n",
      "True\n",
      "True\n",
      "True\n",
      "True\n",
      "True\n",
      "True\n",
      "True\n",
      "True\n",
      "True\n",
      "True\n",
      "True\n",
      "True\n",
      "True\n",
      "True\n",
      "0.2567610740661621\n"
     ]
    }
   ],
   "source": [
    "import httpx\n",
    "import time\n",
    "start = time.time()\n",
    "for i in range(20):\n",
    "\n",
    "    async with httpx.AsyncClient() as client:\n",
    "        r = await client.post('http://localhost:8000/getInformation', json={\"hi\": \"welcome to fastapi\"})\n",
    "        print(r.json()['status'] == 'SUCCESS')\n",
    "print(time.time() - start)\n"
   ]
  },
  {
   "cell_type": "markdown",
   "metadata": {},
   "source": [
    "### Use throttle"
   ]
  },
  {
   "cell_type": "code",
   "execution_count": 2,
   "metadata": {},
   "outputs": [
    {
     "name": "stdout",
     "output_type": "stream",
     "text": [
      "True 1664253239.683464\n",
      "True 1664253239.6954951\n",
      "True 1664253239.706523\n",
      "True 1664253239.7276022\n",
      "True 1664253239.7453532\n",
      "True 1664253239.7633312\n",
      "True 1664253239.7769194\n",
      "True 1664253239.7888992\n",
      "True 1664253239.7993016\n",
      "True 1664253239.810018\n",
      "True 1664253239.826345\n",
      "True 1664253239.941029\n",
      "True 1664253240.0542545\n",
      "True 1664253240.165869\n",
      "True 1664253240.1805174\n",
      "True 1664253240.295037\n",
      "True 1664253240.4085062\n",
      "True 1664253240.5214708\n",
      "True 1664253240.6349232\n",
      "True 1664253240.752125\n",
      "1.0884208679199219\n"
     ]
    }
   ],
   "source": [
    "from aiolimiter import AsyncLimiter\n",
    "import asyncio, time\n",
    "import httpx\n",
    "\n",
    "\n",
    "# class aiolimiter.AsyncLimiter(max_rate, time_period=60)\n",
    "limiter = AsyncLimiter(10, 1) # 10 requests per second\n",
    "\n",
    "\n",
    "\n",
    "start = time.time()\n",
    "for i in range(20):\n",
    "    async with limiter:\n",
    "        async with httpx.AsyncClient() as client:\n",
    "            r = await client.post('http://localhost:8000/getInformation', json={\"hi\": \"welcome to fastapi\"})\n",
    "            print(r.json()['status'] == 'SUCCESS', time.time())\n",
    "print(time.time() - start)"
   ]
  }
 ],
 "metadata": {
  "kernelspec": {
   "display_name": "Python 3.10.6 ('pythonvirtual')",
   "language": "python",
   "name": "python3"
  },
  "language_info": {
   "codemirror_mode": {
    "name": "ipython",
    "version": 3
   },
   "file_extension": ".py",
   "mimetype": "text/x-python",
   "name": "python",
   "nbconvert_exporter": "python",
   "pygments_lexer": "ipython3",
   "version": "3.10.6"
  },
  "orig_nbformat": 4,
  "vscode": {
   "interpreter": {
    "hash": "0b08676d77831f2f6cfaffb3ae2b7fdec1e1ad674aa0228848084f13e5cf98ec"
   }
  }
 },
 "nbformat": 4,
 "nbformat_minor": 2
}
