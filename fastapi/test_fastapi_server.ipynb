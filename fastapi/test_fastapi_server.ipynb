{
 "cells": [
  {
   "cell_type": "markdown",
   "metadata": {},
   "source": [
    "### Debug using requests"
   ]
  },
  {
   "cell_type": "code",
   "execution_count": null,
   "metadata": {},
   "outputs": [],
   "source": [
    "import requests"
   ]
  },
  {
   "cell_type": "code",
   "execution_count": null,
   "metadata": {},
   "outputs": [],
   "source": [
    "response = requests.post(\"http://localhost:8000/getInformation\", json={\"hi\": \"welcome to fastapi\"})\n",
    "print(response)"
   ]
  },
  {
   "cell_type": "code",
   "execution_count": null,
   "metadata": {},
   "outputs": [],
   "source": [
    "response.json()"
   ]
  },
  {
   "cell_type": "markdown",
   "metadata": {},
   "source": [
    "### Debug using async httpx"
   ]
  },
  {
   "cell_type": "code",
   "execution_count": null,
   "metadata": {},
   "outputs": [],
   "source": [
    "import httpx\n",
    "import time\n",
    "start = time.time()\n",
    "for i in range(20):\n",
    "\n",
    "    async with httpx.AsyncClient() as client:\n",
    "        r = await client.post('http://localhost:8000/getInformation', json={\"hi\": \"welcome to fastapi\"})\n",
    "        print(r.json()['status'] == 'SUCCESS')\n",
    "print(time.time() - start)\n"
   ]
  },
  {
   "cell_type": "markdown",
   "metadata": {},
   "source": [
    "### Use throttle"
   ]
  },
  {
   "cell_type": "code",
   "execution_count": null,
   "metadata": {},
   "outputs": [],
   "source": [
    "from aiolimiter import AsyncLimiter\n",
    "import asyncio, time\n",
    "import httpx\n",
    "\n",
    "\n",
    "# class aiolimiter.AsyncLimiter(max_rate, time_period=60)\n",
    "limiter = AsyncLimiter(5, .1) # 20 requests max would be acquired in .1 sec\n",
    "\n",
    "\n",
    "\n",
    "start = time.time()\n",
    "for i in range(20):\n",
    "    async with limiter:\n",
    "        async with httpx.AsyncClient() as client:\n",
    "            print('sending:: ', time.time())\n",
    "            r = await client.post('http://localhost:8000/getInformation', json={\"hi\": \"welcome to fastapi\"})\n",
    "            print(r.json()['status'] == 'SUCCESS', 'received:', time.time())\n",
    "print(time.time() - start)"
   ]
  },
  {
   "cell_type": "code",
   "execution_count": null,
   "metadata": {},
   "outputs": [],
   "source": [
    "import asyncio\n",
    "import time\n",
    "from typing import Any\n",
    "\n",
    "from httpx import AsyncClient, Limits\n",
    "\n",
    "limits = httpx.Limits(max_connections=5)\n",
    "client = httpx.AsyncClient(limits=limits)\n",
    "\n",
    "REQUESTS = 10\n",
    "URL = 'http://localhost:8000/getInformation'\n",
    "TIMEOUT = 1\n",
    "\n",
    "\n",
    "async def request_api(client: AsyncClient, i: int):\n",
    "    t1 = time.process_time()\n",
    "    print(f\"===> {i}\")\n",
    "    r = await client.get(f\"{URL}\", timeout=TIMEOUT)\n",
    "\n",
    "    return f\"<=== {i} ({time.process_time() - t1:.3f}s)\"\n",
    "\n",
    "\n",
    "async def main():\n",
    "    async with AsyncClient(limits=Limits(max_connections=5)) as client:\n",
    "        aws = [asyncio.create_task(request_api(client, i)) for i in range(REQUESTS)]\n",
    "\n",
    "        for coro in asyncio.as_completed(aws):\n",
    "            earliest_result = await coro\n",
    "            print(earliest_result)\n",
    "\n",
    "\n",
    "if __name__ == \"__main__\":\n",
    "    asyncio.run(main())"
   ]
  }
 ],
 "metadata": {
  "kernelspec": {
   "display_name": "Python 3.10.6 ('virtualpython')",
   "language": "python",
   "name": "python3"
  },
  "language_info": {
   "codemirror_mode": {
    "name": "ipython",
    "version": 3
   },
   "file_extension": ".py",
   "mimetype": "text/x-python",
   "name": "python",
   "nbconvert_exporter": "python",
   "pygments_lexer": "ipython3",
   "version": "3.10.7"
  },
  "orig_nbformat": 4,
  "vscode": {
   "interpreter": {
    "hash": "52872058b35a5d53a3f5e39ec0f63490b0c2a5dc1515f67904e4dba3dd59e1c7"
   }
  }
 },
 "nbformat": 4,
 "nbformat_minor": 2
}
